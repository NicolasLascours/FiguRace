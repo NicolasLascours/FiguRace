{
 "cells": [
  {
   "cell_type": "code",
   "execution_count": 287,
   "id": "e9ed541a",
   "metadata": {},
   "outputs": [],
   "source": [
    "import pandas as pd\n",
    "import os\n",
    "\n",
    "# Nombre del archivo a leer\n",
    "name_input = \"registro.csv\"\n",
    "\n",
    "# Direccion del archivo a leer\n",
    "path_file_input = os.path.join(os.getcwd(), name_input)\n",
    "\n",
    "registro = pd.read_csv(path_file_input)\n"
   ]
  },
  {
   "cell_type": "markdown",
   "id": "bcdcc91d",
   "metadata": {},
   "source": [
    "### Top 10 de palabras que se encuentran primero de todas las partidas."
   ]
  },
  {
   "cell_type": "code",
   "execution_count": 297,
   "id": "8e13ebfe",
   "metadata": {},
   "outputs": [
    {
     "data": {
      "text/html": [
       "<div>\n",
       "<style scoped>\n",
       "    .dataframe tbody tr th:only-of-type {\n",
       "        vertical-align: middle;\n",
       "    }\n",
       "\n",
       "    .dataframe tbody tr th {\n",
       "        vertical-align: top;\n",
       "    }\n",
       "\n",
       "    .dataframe thead th {\n",
       "        text-align: right;\n",
       "    }\n",
       "</style>\n",
       "<table border=\"1\" class=\"dataframe\">\n",
       "  <thead>\n",
       "    <tr style=\"text-align: right;\">\n",
       "      <th></th>\n",
       "      <th>Respuesta</th>\n",
       "      <th>Tiempo</th>\n",
       "    </tr>\n",
       "  </thead>\n",
       "  <tbody>\n",
       "    <tr>\n",
       "      <th>10</th>\n",
       "      <td>Christoffer Aasbak</td>\n",
       "      <td>0.960487</td>\n",
       "    </tr>\n",
       "    <tr>\n",
       "      <th>9</th>\n",
       "      <td>Tinakula (Solomon Is.)</td>\n",
       "      <td>1.029762</td>\n",
       "    </tr>\n",
       "    <tr>\n",
       "      <th>0</th>\n",
       "      <td>Lago Salitroso o Sucio</td>\n",
       "      <td>1.230529</td>\n",
       "    </tr>\n",
       "    <tr>\n",
       "      <th>5</th>\n",
       "      <td>Lago Onelli</td>\n",
       "      <td>1.313998</td>\n",
       "    </tr>\n",
       "    <tr>\n",
       "      <th>11</th>\n",
       "      <td>Iliwerung (Indonesia)</td>\n",
       "      <td>1.441111</td>\n",
       "    </tr>\n",
       "    <tr>\n",
       "      <th>3</th>\n",
       "      <td>Chichon, El (Mexico)</td>\n",
       "      <td>1.999027</td>\n",
       "    </tr>\n",
       "    <tr>\n",
       "      <th>8</th>\n",
       "      <td>Lago Traful</td>\n",
       "      <td>2.128344</td>\n",
       "    </tr>\n",
       "    <tr>\n",
       "      <th>7</th>\n",
       "      <td>Adrián Rocheira</td>\n",
       "      <td>4.159255</td>\n",
       "    </tr>\n",
       "    <tr>\n",
       "      <th>1</th>\n",
       "      <td>Lago Strobel</td>\n",
       "      <td>5.612406</td>\n",
       "    </tr>\n",
       "    <tr>\n",
       "      <th>4</th>\n",
       "      <td>Vesuvius (Italy)</td>\n",
       "      <td>5.617003</td>\n",
       "    </tr>\n",
       "  </tbody>\n",
       "</table>\n",
       "</div>"
      ],
      "text/plain": [
       "                 Respuesta    Tiempo\n",
       "10      Christoffer Aasbak  0.960487\n",
       "9   Tinakula (Solomon Is.)  1.029762\n",
       "0   Lago Salitroso o Sucio  1.230529\n",
       "5              Lago Onelli  1.313998\n",
       "11   Iliwerung (Indonesia)  1.441111\n",
       "3     Chichon, El (Mexico)  1.999027\n",
       "8              Lago Traful  2.128344\n",
       "7          Adrián Rocheira  4.159255\n",
       "1             Lago Strobel  5.612406\n",
       "4         Vesuvius (Italy)  5.617003"
      ]
     },
     "execution_count": 297,
     "metadata": {},
     "output_type": "execute_result"
    }
   ],
   "source": [
    "# Saco columnas que no uso\n",
    "partidas = registro[['ID', 'Timestamp', 'Evento', 'Estado', 'Respuesta']]\n",
    "\n",
    "# Filtro buscando los registros de inicio y respuesta correcta\n",
    "partidas = partidas[(partidas['Evento'] == 'inicio_partida') | (partidas['Estado'] == 'ok')]\n",
    "\n",
    "# Agrupo por partida\n",
    "partidas = partidas.groupby('ID')\n",
    "\n",
    "# Le resto al tiempo de la primera respuesta correcta [1] el tiempo de inicio [0]\n",
    "# para saber cuanto se tardo en responder la primera correcta\n",
    "respuestas = []\n",
    "tiempos = []\n",
    "for uuid, dato in partidas:\n",
    "    if len(dato['Timestamp']) > 1:\n",
    "        respuestas.append(dato['Respuesta'].iloc[1])\n",
    "        tiempos.append(dato['Timestamp'].iloc[1] - dato['Timestamp'].iloc[0])\n",
    "\n",
    "tiempos_respuestas = pd.DataFrame(data={'Respuesta': respuestas, 'Tiempo': tiempos})\n",
    "tiempos_respuestas = tiempos_respuestas.sort_values('Tiempo')\n",
    "tiempos_respuestas.head(10)\n"
   ]
  },
  {
   "cell_type": "markdown",
   "id": "c8e54d8e",
   "metadata": {},
   "source": [
    "### Duración total de la partida (desde que el usuarie empieza a jugar hasta que presiona salir o pasan las N rondas definidas para el nivel de dificultad actual)."
   ]
  },
  {
   "cell_type": "code",
   "execution_count": 298,
   "id": "4fc4292b",
   "metadata": {},
   "outputs": [
    {
     "data": {
      "text/html": [
       "<div>\n",
       "<style scoped>\n",
       "    .dataframe tbody tr th:only-of-type {\n",
       "        vertical-align: middle;\n",
       "    }\n",
       "\n",
       "    .dataframe tbody tr th {\n",
       "        vertical-align: top;\n",
       "    }\n",
       "\n",
       "    .dataframe thead th {\n",
       "        text-align: right;\n",
       "    }\n",
       "</style>\n",
       "<table border=\"1\" class=\"dataframe\">\n",
       "  <thead>\n",
       "    <tr style=\"text-align: right;\">\n",
       "      <th></th>\n",
       "      <th>Tiempo</th>\n",
       "    </tr>\n",
       "  </thead>\n",
       "  <tbody>\n",
       "    <tr>\n",
       "      <th>03a4cb9e-b643-4506-85a8-d547e2815dd0</th>\n",
       "      <td>9.136203</td>\n",
       "    </tr>\n",
       "    <tr>\n",
       "      <th>0403cb52-5b98-470e-8868-8c2c4972f0fe</th>\n",
       "      <td>14.157984</td>\n",
       "    </tr>\n",
       "    <tr>\n",
       "      <th>0c65f958-7273-495b-a55e-3cc3788b38e3</th>\n",
       "      <td>86.694448</td>\n",
       "    </tr>\n",
       "    <tr>\n",
       "      <th>103c5824-34c3-4bde-a6f6-0ea5cf749df7</th>\n",
       "      <td>6.697662</td>\n",
       "    </tr>\n",
       "    <tr>\n",
       "      <th>16092f51-1607-467b-966d-d8ecf3a489d0</th>\n",
       "      <td>8.063008</td>\n",
       "    </tr>\n",
       "    <tr>\n",
       "      <th>190c0160-8b97-4c7b-9556-641e68c9334f</th>\n",
       "      <td>2.459541</td>\n",
       "    </tr>\n",
       "    <tr>\n",
       "      <th>20930f46-980e-48b0-9a9a-a32d8dfbc614</th>\n",
       "      <td>13.818453</td>\n",
       "    </tr>\n",
       "    <tr>\n",
       "      <th>24c97e43-23a7-4153-b9ba-545b4e4b7620</th>\n",
       "      <td>1.075764</td>\n",
       "    </tr>\n",
       "    <tr>\n",
       "      <th>2e79aec8-5220-4ecd-8fc5-9ef51852d89b</th>\n",
       "      <td>72.723168</td>\n",
       "    </tr>\n",
       "    <tr>\n",
       "      <th>4c56a963-5a64-4d50-887b-980cceb535b8</th>\n",
       "      <td>12.505075</td>\n",
       "    </tr>\n",
       "    <tr>\n",
       "      <th>588760be-a386-4728-befb-f55a84fd83e3</th>\n",
       "      <td>133.964908</td>\n",
       "    </tr>\n",
       "    <tr>\n",
       "      <th>6ba4877d-3941-45ca-b1bd-652d2371caba</th>\n",
       "      <td>1.942157</td>\n",
       "    </tr>\n",
       "    <tr>\n",
       "      <th>93b0f8a2-768f-4e14-85e9-1e56f484e8c5</th>\n",
       "      <td>16.029962</td>\n",
       "    </tr>\n",
       "    <tr>\n",
       "      <th>c898ae20-32c4-4957-a76a-a2e6248d3245</th>\n",
       "      <td>8.256244</td>\n",
       "    </tr>\n",
       "    <tr>\n",
       "      <th>d2d6470c-c3b6-481c-911e-24f175c38b51</th>\n",
       "      <td>10.254897</td>\n",
       "    </tr>\n",
       "    <tr>\n",
       "      <th>d98df243-30c9-4423-9a65-9458876849a9</th>\n",
       "      <td>8.236869</td>\n",
       "    </tr>\n",
       "    <tr>\n",
       "      <th>e5f8be3e-9abc-454a-91d4-51573c01f7a3</th>\n",
       "      <td>37.126164</td>\n",
       "    </tr>\n",
       "  </tbody>\n",
       "</table>\n",
       "</div>"
      ],
      "text/plain": [
       "                                          Tiempo\n",
       "03a4cb9e-b643-4506-85a8-d547e2815dd0    9.136203\n",
       "0403cb52-5b98-470e-8868-8c2c4972f0fe   14.157984\n",
       "0c65f958-7273-495b-a55e-3cc3788b38e3   86.694448\n",
       "103c5824-34c3-4bde-a6f6-0ea5cf749df7    6.697662\n",
       "16092f51-1607-467b-966d-d8ecf3a489d0    8.063008\n",
       "190c0160-8b97-4c7b-9556-641e68c9334f    2.459541\n",
       "20930f46-980e-48b0-9a9a-a32d8dfbc614   13.818453\n",
       "24c97e43-23a7-4153-b9ba-545b4e4b7620    1.075764\n",
       "2e79aec8-5220-4ecd-8fc5-9ef51852d89b   72.723168\n",
       "4c56a963-5a64-4d50-887b-980cceb535b8   12.505075\n",
       "588760be-a386-4728-befb-f55a84fd83e3  133.964908\n",
       "6ba4877d-3941-45ca-b1bd-652d2371caba    1.942157\n",
       "93b0f8a2-768f-4e14-85e9-1e56f484e8c5   16.029962\n",
       "c898ae20-32c4-4957-a76a-a2e6248d3245    8.256244\n",
       "d2d6470c-c3b6-481c-911e-24f175c38b51   10.254897\n",
       "d98df243-30c9-4423-9a65-9458876849a9    8.236869\n",
       "e5f8be3e-9abc-454a-91d4-51573c01f7a3   37.126164"
      ]
     },
     "execution_count": 298,
     "metadata": {},
     "output_type": "execute_result"
    }
   ],
   "source": [
    "aux = registro[['ID', 'Timestamp']]\n",
    "\n",
    "eventos_partidas = aux.groupby('ID')\n",
    "\n",
    "tiempo_de_partidas = []\n",
    "index_uuid = []\n",
    "for uuid, dato in eventos_partidas:\n",
    "    index_uuid.append(uuid)\n",
    "    tiempo_de_partidas.append(dato.iloc[len(dato) - 1][1] - dato.iloc[0][1])\n",
    "\n",
    "duracion_total_partidas = pd.DataFrame(data={'Tiempo': tiempo_de_partidas}, index=index_uuid)\n",
    "duracion_total_partidas\n"
   ]
  },
  {
   "cell_type": "markdown",
   "id": "7ee07a00",
   "metadata": {},
   "source": [
    "### Tiempo de la respuesta exitosa más rápida."
   ]
  },
  {
   "cell_type": "code",
   "execution_count": 299,
   "id": "960757b7",
   "metadata": {},
   "outputs": [
    {
     "name": "stdout",
     "output_type": "stream",
     "text": [
      "La respuesta mas rápida fue en 0.16 segundos.\n"
     ]
    }
   ],
   "source": [
    "# Saco columnas que no uso\n",
    "aux = registro[['Timestamp', 'Evento', 'Estado']]\n",
    "\n",
    "# Elimino las filas que tengan el evento fin\n",
    "eventos_sin_fin = aux[aux['Evento'] != 'fin']\n",
    "\n",
    "tiempo_respuestas_correctas = []\n",
    "for i in range(len(eventos_sin_fin)):\n",
    "    if eventos_sin_fin.iloc[i][2] == 'ok':\n",
    "        tiempo_respuestas_correctas.append(eventos_sin_fin.iloc[i][0] - eventos_sin_fin.iloc[i-1][0])\n",
    "\n",
    "respuesta_mas_rapida = (pd.DataFrame(data={'Tiempo': tiempo_respuestas_correctas})\n",
    "                          .sort_values('Tiempo')\n",
    "                          .head(1)\n",
    "                        )\n",
    "respuesta_mas_rapida = respuesta_mas_rapida.iloc[0][0]\n",
    "\n",
    "print(f'La respuesta mas rápida fue en {respuesta_mas_rapida:0.2f} segundos.')\n"
   ]
  },
  {
   "cell_type": "markdown",
   "id": "e42ad079",
   "metadata": {},
   "source": [
    "### Promedio de tiempo de respuesta para respuestas exitosas.\n"
   ]
  },
  {
   "cell_type": "code",
   "execution_count": 300,
   "id": "696c96a1",
   "metadata": {},
   "outputs": [
    {
     "name": "stdout",
     "output_type": "stream",
     "text": [
      "El tiempo promedio de respuesta correcta es de 0.28 segundos.\n"
     ]
    }
   ],
   "source": [
    "# Usa el tiempo_respuestas_correctas calculado en \"Tiempo de la respuesta exitosa más rápida.\"\n",
    "\n",
    "aux = registro[['Evento']]\n",
    "cantidad_respuestas = aux[aux['Evento'] == 'Intento'].count()[0]\n",
    "\n",
    "tiempo_total = pd.DataFrame(data={'Tiempo': tiempo_respuestas_correctas}).sum()[0]\n",
    "tiempo_promedio_respuesta = tiempo_total / cantidad_respuestas\n",
    "\n",
    "print(f'El tiempo promedio de respuesta correcta es de {tiempo_promedio_respuesta:0.2f} segundos.')\n"
   ]
  },
  {
   "cell_type": "markdown",
   "id": "fa76d0d0",
   "metadata": {},
   "source": [
    "### Promedio de tiempo de partida general."
   ]
  },
  {
   "cell_type": "code",
   "execution_count": 301,
   "id": "c4d04429",
   "metadata": {},
   "outputs": [
    {
     "name": "stdout",
     "output_type": "stream",
     "text": [
      "El tiempo promedio de partida es de 26.07 segundos.\n"
     ]
    }
   ],
   "source": [
    "# Usa el tiempo_de_partidas calculado en \"Duración total de la partida\"\n",
    "\n",
    "tiempo_promedio_partida = pd.DataFrame(data={'Tiempo': tiempo_de_partidas})\n",
    "tiempo_promedio_partida = tiempo_promedio_partida.mean()[0]\n",
    "\n",
    "print(f'El tiempo promedio de partida es de {tiempo_promedio_partida:0.2f} segundos.')\n"
   ]
  },
  {
   "cell_type": "markdown",
   "id": "e57e5958",
   "metadata": {},
   "source": [
    "### Porcentaje de aciertos por usuarie."
   ]
  },
  {
   "cell_type": "code",
   "execution_count": 303,
   "id": "09300838",
   "metadata": {},
   "outputs": [
    {
     "data": {
      "text/html": [
       "<div>\n",
       "<style scoped>\n",
       "    .dataframe tbody tr th:only-of-type {\n",
       "        vertical-align: middle;\n",
       "    }\n",
       "\n",
       "    .dataframe tbody tr th {\n",
       "        vertical-align: top;\n",
       "    }\n",
       "\n",
       "    .dataframe thead th {\n",
       "        text-align: right;\n",
       "    }\n",
       "</style>\n",
       "<table border=\"1\" class=\"dataframe\">\n",
       "  <thead>\n",
       "    <tr style=\"text-align: right;\">\n",
       "      <th></th>\n",
       "      <th>Bien</th>\n",
       "      <th>Total</th>\n",
       "      <th>Porcentaje</th>\n",
       "    </tr>\n",
       "    <tr>\n",
       "      <th>Usuario</th>\n",
       "      <th></th>\n",
       "      <th></th>\n",
       "      <th></th>\n",
       "    </tr>\n",
       "  </thead>\n",
       "  <tbody>\n",
       "    <tr>\n",
       "      <th>Agustin</th>\n",
       "      <td>11</td>\n",
       "      <td>41</td>\n",
       "      <td>26.829268</td>\n",
       "    </tr>\n",
       "    <tr>\n",
       "      <th>Franco</th>\n",
       "      <td>11</td>\n",
       "      <td>52</td>\n",
       "      <td>21.153846</td>\n",
       "    </tr>\n",
       "    <tr>\n",
       "      <th>Sofia</th>\n",
       "      <td>12</td>\n",
       "      <td>50</td>\n",
       "      <td>24.000000</td>\n",
       "    </tr>\n",
       "  </tbody>\n",
       "</table>\n",
       "</div>"
      ],
      "text/plain": [
       "         Bien  Total  Porcentaje\n",
       "Usuario                         \n",
       "Agustin    11     41   26.829268\n",
       "Franco     11     52   21.153846\n",
       "Sofia      12     50   24.000000"
      ]
     },
     "execution_count": 303,
     "metadata": {},
     "output_type": "execute_result"
    }
   ],
   "source": [
    "intentos = registro[['Usuario', 'Evento', 'Estado']]\n",
    "intentos = intentos[intentos['Evento'] == 'Intento']\n",
    "\n",
    "total_intentos = intentos.groupby(['Usuario']).size()\n",
    "cantidad_bien = intentos[intentos['Estado'] == 'ok'].groupby(['Usuario']).size()\n",
    "\n",
    "data = pd.DataFrame(data={'Bien': cantidad_bien, 'Total': total_intentos})\n",
    "data['Porcentaje'] = (cantidad_bien / total_intentos * 100)\n",
    "data\n"
   ]
  },
  {
   "cell_type": "markdown",
   "id": "62222e2d",
   "metadata": {},
   "source": [
    "### Cantidad de tarjetas para las que el usuarie no dió respuesta (timeout)"
   ]
  },
  {
   "cell_type": "code",
   "execution_count": 296,
   "id": "9372b391",
   "metadata": {},
   "outputs": [
    {
     "data": {
      "text/html": [
       "<div>\n",
       "<style scoped>\n",
       "    .dataframe tbody tr th:only-of-type {\n",
       "        vertical-align: middle;\n",
       "    }\n",
       "\n",
       "    .dataframe tbody tr th {\n",
       "        vertical-align: top;\n",
       "    }\n",
       "\n",
       "    .dataframe thead th {\n",
       "        text-align: right;\n",
       "    }\n",
       "</style>\n",
       "<table border=\"1\" class=\"dataframe\">\n",
       "  <thead>\n",
       "    <tr style=\"text-align: right;\">\n",
       "      <th></th>\n",
       "      <th>Veces que no dio respuesta</th>\n",
       "    </tr>\n",
       "    <tr>\n",
       "      <th>Usuario</th>\n",
       "      <th></th>\n",
       "    </tr>\n",
       "  </thead>\n",
       "  <tbody>\n",
       "    <tr>\n",
       "      <th>Agustin</th>\n",
       "      <td>1</td>\n",
       "    </tr>\n",
       "    <tr>\n",
       "      <th>Franco</th>\n",
       "      <td>2</td>\n",
       "    </tr>\n",
       "    <tr>\n",
       "      <th>Sofia</th>\n",
       "      <td>1</td>\n",
       "    </tr>\n",
       "  </tbody>\n",
       "</table>\n",
       "</div>"
      ],
      "text/plain": [
       "         Veces que no dio respuesta\n",
       "Usuario                            \n",
       "Agustin                           1\n",
       "Franco                            2\n",
       "Sofia                             1"
      ]
     },
     "execution_count": 296,
     "metadata": {},
     "output_type": "execute_result"
    }
   ],
   "source": [
    "cant_intentos = registro[registro['Evento'] == 'Intento']\n",
    "cant_timeouts = cant_intentos[cant_intentos['Estado'] == 'timeout'].groupby(['Usuario']).size()\n",
    "data = pd.DataFrame(data = {'Veces que no dio respuesta':cant_timeouts})\n",
    "\n",
    "data"
   ]
  },
  {
   "cell_type": "markdown",
   "id": "f4f736aa",
   "metadata": {},
   "source": [
    "### Cantidad de tarjetas en las que el usuarie dió una respuesta errónea."
   ]
  },
  {
   "cell_type": "code",
   "execution_count": 295,
   "id": "142d6b56",
   "metadata": {},
   "outputs": [
    {
     "data": {
      "text/html": [
       "<div>\n",
       "<style scoped>\n",
       "    .dataframe tbody tr th:only-of-type {\n",
       "        vertical-align: middle;\n",
       "    }\n",
       "\n",
       "    .dataframe tbody tr th {\n",
       "        vertical-align: top;\n",
       "    }\n",
       "\n",
       "    .dataframe thead th {\n",
       "        text-align: right;\n",
       "    }\n",
       "</style>\n",
       "<table border=\"1\" class=\"dataframe\">\n",
       "  <thead>\n",
       "    <tr style=\"text-align: right;\">\n",
       "      <th></th>\n",
       "      <th>Veces se equivoco</th>\n",
       "    </tr>\n",
       "    <tr>\n",
       "      <th>Usuario</th>\n",
       "      <th></th>\n",
       "    </tr>\n",
       "  </thead>\n",
       "  <tbody>\n",
       "    <tr>\n",
       "      <th>Agustin</th>\n",
       "      <td>25</td>\n",
       "    </tr>\n",
       "    <tr>\n",
       "      <th>Franco</th>\n",
       "      <td>34</td>\n",
       "    </tr>\n",
       "    <tr>\n",
       "      <th>Sofia</th>\n",
       "      <td>34</td>\n",
       "    </tr>\n",
       "  </tbody>\n",
       "</table>\n",
       "</div>"
      ],
      "text/plain": [
       "         Veces se equivoco\n",
       "Usuario                   \n",
       "Agustin                 25\n",
       "Franco                  34\n",
       "Sofia                   34"
      ]
     },
     "execution_count": 295,
     "metadata": {},
     "output_type": "execute_result"
    }
   ],
   "source": [
    "cant_errores = cant_intentos[cant_intentos['Estado'] == 'error'].groupby(['Usuario']).size()\n",
    "data = pd.DataFrame(data = {'Veces se equivoco':cant_errores})\n",
    "\n",
    "data"
   ]
  },
  {
   "cell_type": "code",
   "execution_count": null,
   "id": "b70de069",
   "metadata": {},
   "outputs": [],
   "source": []
  }
 ],
 "metadata": {
  "kernelspec": {
   "display_name": "Python 3 (ipykernel)",
   "language": "python",
   "name": "python3"
  },
  "language_info": {
   "codemirror_mode": {
    "name": "ipython",
    "version": 3
   },
   "file_extension": ".py",
   "mimetype": "text/x-python",
   "name": "python",
   "nbconvert_exporter": "python",
   "pygments_lexer": "ipython3",
   "version": "3.10.3"
  }
 },
 "nbformat": 4,
 "nbformat_minor": 5
}
