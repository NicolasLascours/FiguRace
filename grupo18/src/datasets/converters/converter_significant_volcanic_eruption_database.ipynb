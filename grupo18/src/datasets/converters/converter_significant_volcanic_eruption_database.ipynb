{
 "cells": [
  {
   "cell_type": "markdown",
   "metadata": {},
   "source": [
    "Importo las librerías correspondientes: "
   ]
  },
  {
   "cell_type": "code",
   "execution_count": 9,
   "metadata": {},
   "outputs": [],
   "source": [
    "import os\n",
    "import csv\n",
    "from googletrans import Translator"
   ]
  },
  {
   "cell_type": "markdown",
   "metadata": {},
   "source": [
    "Establezco la ruta de los archivos:\n"
   ]
  },
  {
   "cell_type": "code",
   "execution_count": 11,
   "metadata": {},
   "outputs": [
    {
     "data": {
      "text/plain": [
       "'e:\\\\FiguRace\\\\data_set\\\\clean_significant_volcanic_eruption_database.csv'"
      ]
     },
     "execution_count": 11,
     "metadata": {},
     "output_type": "execute_result"
    }
   ],
   "source": [
    "def file_path(one_string):\n",
    "    '''ruta de acceso al archivo'''\n",
    "    base_path = os.path.abspath(os.path.dirname(\"__file__\"))\n",
    "    archives= os.path.join(base_path, one_string)\n",
    "    return archives\n",
    "\n",
    "volcano_archives = \"significant-volcanic-eruption-database.csv\"\n",
    "volcano_spanish = \"clean_significant_volcanic_eruption_database.csv\"\n",
    "\n",
    "file_path(volcano_archives)\n",
    "file_path(volcano_spanish)\n"
   ]
  },
  {
   "cell_type": "markdown",
   "metadata": {},
   "source": [
    "Funciones del programa:\n"
   ]
  },
  {
   "cell_type": "code",
   "execution_count": 12,
   "metadata": {},
   "outputs": [],
   "source": [
    "def translator_volcano_type(data):\n",
    "  '''Traduce el string pasado por parámetro al español'''\n",
    "  translator = Translator()\n",
    "  return translator.translate(data, dest='es').text.title().split(',')\n",
    "  \n",
    "def booleans_flags(data, one_string,):\n",
    "  '''devuelve una lista con True en los lugares donde se encuentra el string pasado por parámetro,\n",
    "   sino devuelve '¿?'''\n",
    "  return True if data== one_string else '¿?'\n",
    "\n",
    "def unifier_name_country_columns (data_name, data_country):\n",
    "  '''devuelve el nombre y el país, entre paréntesis, de cada volcán'''\n",
    "  return \"{name} ({country})\".format(name = data_name, country = data_country)\n"
   ]
  },
  {
   "cell_type": "markdown",
   "metadata": {},
   "source": [
    "Programa:"
   ]
  },
  {
   "cell_type": "code",
   "execution_count": 13,
   "metadata": {},
   "outputs": [],
   "source": [
    "try:\n",
    "    with open(volcano_archives, encoding=\"utf8\") as data_set:\n",
    "        reader = csv.reader(data_set, delimiter=\";\")\n",
    "        header, data_file_input = next(reader), list(reader)\n",
    "\n",
    "    # sobre escribo el header\n",
    "        header = ['Year', 'Volcanic Explosivity Index', 'Volcano Type', 'Flag Tsunami', 'Flag Earthquake','Name and country']\n",
    "    # creo un archivo .csv de new_file\n",
    "    with open(volcano_spanish, \"w\", encoding=\"utf8\",  newline=\"\") as new_file:\n",
    "        writer = csv.writer(new_file)\n",
    "       # volcano_archives = next() #salteo el encabezado del archivo\n",
    "        writer.writerow(header)  # agrego el nuevo encabezado\n",
    "        for line in data_file_input:\n",
    "            new_data = (line[0].split(\", \"), line[10].split(\", \"), translator_volcano_type(line[9]), booleans_flags(\n",
    "                line[3], 'Tsunami'), booleans_flags(line[4], 'Earthquake'), unifier_name_country_columns (line[5],line[7]))\n",
    "            writer.writerow(new_data)\n",
    "\n",
    "except FileNotFoundError:\n",
    "    print('ERROR: No se ha encontrado el archivo.')"
   ]
  }
 ],
 "metadata": {
  "interpreter": {
   "hash": "afb734500600fd355917ca529030176ea0ca205570884b88f2f6f7d791fd3fbe"
  },
  "kernelspec": {
   "display_name": "Python 3.10.4 64-bit",
   "language": "python",
   "name": "python3"
  },
  "language_info": {
   "codemirror_mode": {
    "name": "ipython",
    "version": 3
   },
   "file_extension": ".py",
   "mimetype": "text/x-python",
   "name": "python",
   "nbconvert_exporter": "python",
   "pygments_lexer": "ipython3",
   "version": "3.10.4"
  },
  "orig_nbformat": 4
 },
 "nbformat": 4,
 "nbformat_minor": 2
}
