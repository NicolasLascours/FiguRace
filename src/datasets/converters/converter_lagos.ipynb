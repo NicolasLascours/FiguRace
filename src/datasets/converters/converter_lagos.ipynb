{
 "cells": [
  {
   "cell_type": "markdown",
   "id": "79a87e4b",
   "metadata": {},
   "source": [
    "### DATASET  DE LAGOS:\n",
    "LINK: https://drive.google.com/file/d/1PzfCgiAhPAq8Cztx9psk3puxDPHsjnqJ/view?usp=sharing\n",
    "(extraído de https://www.ign.gob.ar/NuestrasActividades/Geografia/DatosArgentina/Lagos)\n",
    "\n",
    "Deberá adaptar los datos de la siguiente forma: \n",
    "\n",
    "● Transformar las coordenadas en la columna “Coordenadas” a grados decimales.\n",
    "\n",
    "● Se utilizarán como datos de las tarjetas: “Ubicación”, “Superficie (km²)”, “Profundidad\n",
    "máxima (m)”, “Profundidad media (m)”, “Coordenadas”. Como dato a adivinar se\n",
    "utilizará “Nombre”. Descartar el resto de las columnas.\n",
    "\n",
    "● El archivo resultante deberá tener las siguientes columnas (en este orden específico):\n",
    "“Ubicación”, “Superficie (km²)”, “Profundidad máxima (m)”, “Profundidad media (m)”,\n",
    "“Coordenadas” y “Nombre”.\n"
   ]
  },
  {
   "cell_type": "code",
   "execution_count": 1,
   "id": "75167164",
   "metadata": {},
   "outputs": [
    {
     "name": "stdout",
     "output_type": "stream",
     "text": [
      "Se ha creado el archivo correctamente.\n"
     ]
    }
   ],
   "source": [
    "import os\n",
    "import csv\n",
    "\n",
    "# Direccion del archivo a leer\n",
    "path_file_input = os.path.join(os.path.dirname(os.getcwd()), \"datasets_input\")\n",
    "\n",
    "# Nombre del archivo a leer\n",
    "name_input = \"lagos_input.csv\"\n",
    "\n",
    "# Direccion destino del nuevo dataset\n",
    "path_file_output = os.path.join(os.path.dirname(os.getcwd()), \"datasets_output\")\n",
    "\n",
    "# Nombre del archivo a escribir/crear\n",
    "name_output = \"dataset_lagos.csv\"\n",
    "\n",
    "\n",
    "# Defino una funcion que transforma un string de cordenadas sexagecimal a decimal\n",
    "def transform(sexagecimal):\n",
    "    \"\"\"Recibe un string de cordenadas en sistema sexagecimal y retorna un string\n",
    "    de cordenadas en sistema decimal\"\"\"\n",
    "    elems = (sexagecimal.replace('°', ' ')\n",
    "                        .replace(\"'\", ' ')\n",
    "                        .replace('\"', ' ')\n",
    "                        .split())\n",
    "\n",
    "    directions = {'N': 1, 'S': -1, 'E': 1, 'O': -1}\n",
    "\n",
    "    lat = ((float(elems[0]) + ((float(elems[1]) + (float(elems[2]) / 60)) / 60))) * (\n",
    "            directions[elems[3]]) \n",
    "        \n",
    "    long = ((float(elems[4]) + ((float(elems[5]) + (float(elems[6]) / 60)) / 60))) * (\n",
    "            directions[elems[7]])\n",
    "\n",
    "    return (f\"{lat:.6f}, {long:.6f}\")\n",
    "\n",
    "\n",
    "try:\n",
    "    # Abro el archivo a leer y lo cargo  en una lista sin el encabezado\n",
    "    with open(os.path.join(path_file_input, name_input), encoding='utf_8') as data_lagos:\n",
    "        csvreader = csv.reader(data_lagos, delimiter=',')\n",
    "        header, data_file_input = next(csvreader), list(csvreader)\n",
    "\n",
    "    # Encabezado del nuevo archivo\n",
    "    new_header = [\"Ubicación\", \"Superficie (km²)\", \"Profundidad máxima (m)\",\n",
    "                  \"Profundidad media (m)\", \"Coordenadas\", \"Nombre\"]\n",
    "\n",
    "    # Genero una lista de listas con las columnas necesarias usando listcomprehension\n",
    "    new_data = [[line[1], line[2], line[3], line[4], transform(line[5]), line[0]]\n",
    "                for line in data_file_input]\n",
    "\n",
    "    # Abro/creo y escribo los datos en el archivo\n",
    "    with open(os.path.join(path_file_output, name_output),\n",
    "              'w', newline='', encoding='utf_8') as new_dataset:\n",
    "        csvwriter = csv.writer(new_dataset, delimiter=',')\n",
    "        csvwriter.writerow(new_header)\n",
    "        csvwriter.writerows(new_data)\n",
    "except FileNotFoundError:\n",
    "    print('ERROR: No se ha encontrado el archivo.')\n",
    "else:\n",
    "    print('Se ha creado el archivo correctamente.')\n"
   ]
  }
 ],
 "metadata": {
  "interpreter": {
   "hash": "e2db2948042336c56b8c871aca406f94c86e98c443903a09375aa5bdb37b4a3f"
  },
  "kernelspec": {
   "display_name": "Python 3.10.3 ('venv': venv)",
   "language": "python",
   "name": "python3"
  },
  "language_info": {
   "codemirror_mode": {
    "name": "ipython",
    "version": 3
   },
   "file_extension": ".py",
   "mimetype": "text/x-python",
   "name": "python",
   "nbconvert_exporter": "python",
   "pygments_lexer": "ipython3",
   "version": "3.10.3"
  }
 },
 "nbformat": 4,
 "nbformat_minor": 5
}
