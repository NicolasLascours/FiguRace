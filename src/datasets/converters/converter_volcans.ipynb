{
 "cells": [
  {
   "cell_type": "markdown",
   "metadata": {},
   "source": [
    "Importo las librerías correspondientes: "
   ]
  },
  {
   "cell_type": "code",
   "execution_count": null,
   "metadata": {},
   "outputs": [],
   "source": [
    "import os\n",
    "import csv\n",
    "from googletrans import Translator\n",
    "from httpcore import TimeoutException"
   ]
  },
  {
   "cell_type": "markdown",
   "metadata": {},
   "source": [
    "Establezco la ruta de los archivos:\n"
   ]
  },
  {
   "cell_type": "code",
   "execution_count": null,
   "metadata": {},
   "outputs": [],
   "source": [
    "def file_path(one_string):\n",
    "    base_path = os.path.abspath(os.path.dirname(\"__file__\"))\n",
    "    archives = os.path.join(os.path.dirname(base_path), one_string)\n",
    "    return archives\n",
    "\n",
    "volcano_archives = os.path.join(\"datasets_input\", \"volcanics_input.csv\")\n",
    "volcano_spanish = os.path.join(\"datasets_output\", \"dataset_volcanic.csv\")\n",
    "\n",
    "file_input = file_path(volcano_archives)\n",
    "file_output = file_path(volcano_spanish)\n"
   ]
  },
  {
   "cell_type": "markdown",
   "metadata": {},
   "source": [
    "Funciones del programa:\n"
   ]
  },
  {
   "cell_type": "code",
   "execution_count": null,
   "metadata": {},
   "outputs": [],
   "source": [
    "def translator_volcano_type(data):\n",
    "    \"\"\"Traduce el string pasado por parámetro al español\"\"\"\n",
    "    translator = Translator()\n",
    "    return translator.translate(data, dest='es').text.title()\n",
    "\n",
    "\n",
    "def booleans_flags(data, one_string,):\n",
    "    \"\"\"Devuelve una lista con True en los lugares donde se encuentra\n",
    "     el string pasado por parámetro, sino devuelve '¿?\"\"\"\n",
    "    return True if data == one_string else '¿?'\n",
    "\n",
    "\n",
    "def unifier_name_country_columns (data_name, data_country):\n",
    "    \"\"\"Devuelve el nombre y el país, entre paréntesis, de cada volcán\"\"\"\n",
    "    return \"{name} ({country})\".format(name=data_name, country=data_country)\n",
    "\n",
    "\n",
    "def data_volcanic_eruption(line, retries=0):\n",
    "    \"\"\"Escribe  una linea en .csv de salida,\n",
    "     reitentando 2 veces si fallo la conexión\"\"\"\n",
    "    if retries < 3:\n",
    "        try: \n",
    "            new_data = (line[0], line[10], translator_volcano_type(line[9]),\n",
    "                        booleans_flags(line[3], 'Tsunami'), \n",
    "                        booleans_flags(line[4], 'Earthquake'),\n",
    "                        unifier_name_country_columns(line[5], line[7]))\n",
    "            return new_data\n",
    "        except TimeoutException:\n",
    "            print(\"Tenemos una demora con la comunicación con Google, seguimos intentando\") \n",
    "            retries += 1 \n",
    "            data_volcanic_eruption(line, retries)\n",
    "    else:\n",
    "        raise Exception"
   ]
  },
  {
   "cell_type": "markdown",
   "metadata": {},
   "source": [
    "Programa:"
   ]
  },
  {
   "cell_type": "code",
   "execution_count": null,
   "metadata": {},
   "outputs": [],
   "source": [
    "try:\n",
    "    with open(file_input, encoding=\"utf8\") as data_set:\n",
    "        reader = csv.reader(data_set, delimiter=\";\")\n",
    "        header, data_file_input = next(reader), list(reader)\n",
    "\n",
    "    # sobre escribo el header\n",
    "    header = ['Year', 'Volcanic Explosivity Index', 'Volcano Type',\n",
    "              'Flag Tsunami', 'Flag Earthquake', 'Name and country']\n",
    "\n",
    "    # genero una lista de listas con las columnas necesarias en el archivo\n",
    "    new_data = [data_volcanic_eruption(line) for line in data_file_input]\n",
    "            \n",
    "    # creo un archivo .csv de new_file y lo cargo\n",
    "    with open(file_output, \"w\", encoding=\"utf8\",  newline=\"\") as new_file:\n",
    "        writer = csv.writer(new_file)\n",
    "        # agrego el nuevo encabezado\n",
    "        writer.writerow(header)\n",
    "        # agrego los datos\n",
    "        writer.writerows(new_data)  \n",
    "      \n",
    "except FileNotFoundError:\n",
    "    print('ERROR: No se ha encontrado el archivo.')\n",
    "except Exception:\n",
    "    print(\"Tuvimos problemas con la carga, necesita reiniciar el proceso\")\n",
    "else:\n",
    "    print('Se ha creado el archivo correctamente.')      "
   ]
  }
 ],
 "metadata": {
  "interpreter": {
   "hash": "afb734500600fd355917ca529030176ea0ca205570884b88f2f6f7d791fd3fbe"
  },
  "kernelspec": {
   "display_name": "Python 3.10.4 64-bit",
   "language": "python",
   "name": "python3"
  },
  "language_info": {
   "codemirror_mode": {
    "name": "ipython",
    "version": 3
   },
   "file_extension": ".py",
   "mimetype": "text/x-python",
   "name": "python",
   "nbconvert_exporter": "python",
   "pygments_lexer": "ipython3",
   "version": "3.10.4"
  },
  "orig_nbformat": 4
 },
 "nbformat": 4,
 "nbformat_minor": 2
}
