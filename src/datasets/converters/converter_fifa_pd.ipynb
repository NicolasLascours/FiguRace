{
 "cells": [
  {
   "cell_type": "code",
   "execution_count": null,
   "metadata": {},
   "outputs": [],
   "source": [
    "import os\n",
    "import pandas as pd\n",
    "\n",
    "\n",
    "def file_path(one_string):\n",
    "    base_path = os.path.abspath(os.path.dirname(\"__file__\"))\n",
    "    archives = os.path.join(os.path.dirname(base_path), one_string)\n",
    "    return archives\n",
    "\n",
    "name_input = \"fifa_input.csv\"\n",
    "name_output = \"dataset_fifa_pd.csv\"\n",
    "\n",
    "file_path_input = os.path.join(\"datasets_input\", name_input)\n",
    "file_path_output = os.path.join(\"datasets_output\", name_output)\n",
    "\n",
    "file_input = file_path(file_path_input)\n",
    "file_output = file_path(file_path_output)"
   ]
  },
  {
   "cell_type": "code",
   "execution_count": null,
   "metadata": {},
   "outputs": [],
   "source": [
    "def position(one_elemnt):\n",
    "    \"\"\"\n",
    "    Recibe por parametros un string con las posiciones de un jugador abreviadas\n",
    "    en inglés y retorna un string con los nombres de las posiciones en español.\n",
    "    \"\"\"\n",
    "    pos = {'GK': 'Portero', 'CB': 'Defensa Central', 'LB': 'Lateral Izquierdo',\n",
    "           'RB': 'Lateral Derecho', 'LWB': 'Carrillero Izquierdo',\n",
    "           'RWB': 'Carrillero Derecho', 'CDM': 'Medio Centro Defensivo',\n",
    "           'CM': 'Medio Centro', 'LM': 'Medio Izquierdo', 'RM': 'Medio Derecho',\n",
    "           'CAM': 'Medio Centro Ofensivo', 'LW': 'Extremo Izquierdo',\n",
    "           'RW': 'Extremo Derecho', 'CF': 'Media Punta',\n",
    "           'LF': 'Segundo Delantero Izquierdo',\n",
    "           'RF': 'Segundo Delantero Derecho', 'ST': 'Delantero Centro'}\n",
    "\n",
    "    player_positions = (one_elemnt).split('|')\n",
    "    positions_spanish = [pos[elem] for elem in player_positions]\n",
    "    return '|'.join(positions_spanish)\n"
   ]
  },
  {
   "cell_type": "code",
   "execution_count": null,
   "metadata": {},
   "outputs": [],
   "source": [
    "try:\n",
    "    data_set_input = pd.read_csv(file_input, sep=';')\n",
    "    # Reemplazo “Potential” por la escala conceptual correspondiente\n",
    "    condition_sixty = (data_set_input[\"potential\"].astype(int) < 60)\n",
    "    condition_sixty_eighty = (data_set_input[\"potential\"].astype(int) >= 60) & (data_set_input[\"potential\"].astype(int) <= 80)\n",
    "    condition_eighty = (data_set_input[\"potential\"].astype(int) >= 80) & (data_set_input[\"potential\"].\n",
    "    astype(int) <= 89)\n",
    "    condition_ninety = data_set_input[\"potential\"].astype(int) >= 90\n",
    "    data_set_input.loc[condition_sixty, \"potential\"] = 'Regular'\n",
    "    data_set_input.loc[condition_sixty_eighty, \"potential\"] = 'Bueno'\n",
    "    data_set_input.loc[condition_eighty, \"potential\"] = 'Muy Bueno'\n",
    "    data_set_input.loc[condition_ninety, \"potential\"] = 'Sobresaliente'\n",
    "    # Reemplazo el valor de “Position” por las posiciones en español\n",
    "    data_set_input['position'] = data_set_input['position'].apply(position)\n",
    "    # Escribo las columnas asigandas al archivo, descartando el resto de\n",
    "    # las mismas\n",
    "    new_csv = data_set_input[['team', 'nationality', 'position', 'age',\n",
    "                 'potential', 'name']]\n",
    "    # escribo el archivo csv\n",
    "    new_csv.to_csv(file_output, index=False)\n",
    "except FileNotFoundError:\n",
    "    print('ERROR: No se ha encontrado el archivo.')\n",
    "else:\n",
    "    print('Se ha creado el archivo correctamente.')\n"
   ]
  }
 ],
 "metadata": {
  "kernelspec": {
   "display_name": "Python 3.10.4 64-bit",
   "language": "python",
   "name": "python3"
  },
  "language_info": {
   "codemirror_mode": {
    "name": "ipython",
    "version": 3
   },
   "file_extension": ".py",
   "mimetype": "text/x-python",
   "name": "python",
   "nbconvert_exporter": "python",
   "pygments_lexer": "ipython3",
   "version": "3.10.4"
  },
  "orig_nbformat": 4,
  "vscode": {
   "interpreter": {
    "hash": "afb734500600fd355917ca529030176ea0ca205570884b88f2f6f7d791fd3fbe"
   }
  }
 },
 "nbformat": 4,
 "nbformat_minor": 2
}
