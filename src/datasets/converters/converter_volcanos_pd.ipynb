{
 "cells": [
  {
   "cell_type": "code",
   "execution_count": null,
   "metadata": {},
   "outputs": [],
   "source": [
    "import os\n",
    "import pandas as pd\n",
    "from googletrans import Translator\n",
    "from httpcore import TimeoutException"
   ]
  },
  {
   "cell_type": "code",
   "execution_count": null,
   "metadata": {},
   "outputs": [],
   "source": [
    "def file_path(one_string):\n",
    "    base_path = os.path.abspath(os.path.dirname(\"__file__\"))\n",
    "    archives = os.path.join(os.path.dirname(base_path), one_string)\n",
    "    return archives\n",
    "\n",
    "volcano_archives = os.path.join(\"datasets_input\", \"volcanics_input.csv\")\n",
    "volcano_spanish = os.path.join(\"datasets_output\", \"dataset_volcanic_pd.csv\")\n",
    "\n",
    "file_input = file_path(volcano_archives)\n",
    "file_output = file_path(volcano_spanish)\n"
   ]
  },
  {
   "cell_type": "code",
   "execution_count": null,
   "metadata": {},
   "outputs": [],
   "source": [
    "data_set_input = pd.read_csv(file_input, sep=';')\n"
   ]
  },
  {
   "cell_type": "code",
   "execution_count": null,
   "metadata": {},
   "outputs": [],
   "source": [
    "def translator_volcano_type(data, retries=0):\n",
    "    \"\"\"Traduce el string pasado por parámetro al español\"\"\"\n",
    "    translator = Translator()\n",
    "    if retries < 3:\n",
    "        try: \n",
    "           return translator.translate(data, dest='es').text.title()\n",
    "        except TimeoutException:\n",
    "            print(\"Tenemos una demora con la comunicación con Google, seguimos intentando\") \n",
    "            retries += 1 \n",
    "            translator_volcano_type(data, retries)\n",
    "    \n",
    "    else:\n",
    "        raise Exception"
   ]
  },
  {
   "cell_type": "code",
   "execution_count": null,
   "metadata": {},
   "outputs": [],
   "source": [
    "try:\n",
    "    data_set_input = pd.read_csv(file_input, sep=';')\n",
    "\n",
    "    # Convierto “Flag Tsunami” y “Flag Earthquake” a booleanos, considerando\n",
    "    # que las celdas vacías corresponden al valor False\n",
    "    new_flag_earthqueke = data_set_input['Flag Earthquake'].isna()\n",
    "    new_flag_tsunami = data_set_input['Flag Tsunami'].isna()\n",
    "    # traduzco el tipo de volcán al español\n",
    "    volcano_spanish = data_set_input['Volcano Type']\n",
    "    for k, v in volcano_spanish.items():\n",
    "        volcano_spanish = volcano_spanish.replace([v],\n",
    "                              translator_volcano_type(v))\n",
    "    # Transformar la columna “Name” en una nueva columna “Name and country”\n",
    "    # para que tenga una combinación del nombre del volcán con el país entre\n",
    "    # paréntesis\n",
    "    new_data = data_set_input['Volcano Name'].str.cat(data_set_input['Country'],\n",
    "                   sep=' (') + ')'\n",
    "    # genero una nueva variable para guardar los datos que se utilizarán\n",
    "    # en las tarjetas\n",
    "    data_set_input['Flag Tsunami'] = new_flag_tsunami\n",
    "    data_set_input['Flag Earthquake'] = new_flag_earthqueke\n",
    "    data_set_input['Volcano Name'] = new_data\n",
    "    data_set_input['Volcano Type'] = volcano_spanish\n",
    "    new_csv = data_set_input[['Year', 'Volcanic Explosivity Index',\n",
    "                                  'Volcano Type', 'Flag Tsunami',\n",
    "                                        'Flag Earthquake',\n",
    "                                             'Volcano Name']]\n",
    "    copy_new_csv = new_csv.copy()                                         \n",
    "    copy_new_csv.rename(columns={\"Volcano Name\":\"Name and Country\"}, inplace=True)\n",
    "    # escribo el archivo csv\n",
    "    copy_new_csv.to_csv(file_output, index=False)\n",
    "except FileNotFoundError:\n",
    "    print('ERROR: No se ha encontrado el archivo.')\n",
    "except Exception:\n",
    "    print(\"Tuvimos problemas con la carga, necesita reiniciar el proceso\")\n",
    "else:\n",
    "    print('Se ha creado el archivo correctamente.')"
   ]
  }
 ],
 "metadata": {
  "kernelspec": {
   "display_name": "Python 3.10.4 64-bit",
   "language": "python",
   "name": "python3"
  },
  "language_info": {
   "codemirror_mode": {
    "name": "ipython",
    "version": 3
   },
   "file_extension": ".py",
   "mimetype": "text/x-python",
   "name": "python",
   "nbconvert_exporter": "python",
   "pygments_lexer": "ipython3",
   "version": "3.10.4"
  },
  "orig_nbformat": 4,
  "vscode": {
   "interpreter": {
    "hash": "afb734500600fd355917ca529030176ea0ca205570884b88f2f6f7d791fd3fbe"
   }
  }
 },
 "nbformat": 4,
 "nbformat_minor": 2
}
