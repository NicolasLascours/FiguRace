{
 "cells": [
  {
   "cell_type": "markdown",
   "id": "fdb1695d",
   "metadata": {},
   "source": [
    "### Dataset FIFA 2021 Complete Player \n",
    "\n",
    "LINK: https://www.kaggle.com/datasets/aayushmishra1512/fifa-2021-complete-player-data?resour\n",
    "ce=download\n",
    "\n",
    "Deberá adaptar los datos de la siguiente forma:\n",
    "\n",
    "● Reemplazar “Potential” por la siguiente escala conceptual:\n",
    "\n",
    "    ○ Regular: Menos de 60\n",
    "    ○ Bueno: Entre 60 y 79 (inclusive)\n",
    "    ○ Muy bueno: Entre 80 y 89 (inclusive)\n",
    "    ○ Sobresaliente: Desde 90 en adelante.\n",
    "    \n",
    "● Reemplazar el valor de “Position” por las posiciones en español. Por ejemplo “LB|CB”\n",
    "debe ser reemplazado por “Defensor izquierdo|Defensor central”\n",
    "\n",
    "● Se utilizarán como datos de las tarjetas: “Age”, “Nationality”, “Position”, “Team” y\n",
    "“Potential”. Como dato a adivinar se utilizará “Name”. Descartar el resto de las\n",
    "columnas.\n",
    "\n",
    "● El archivo resultante deberá tener las siguientes columnas (en este orden específico):\n",
    "“Team”, “Nationality”, “Position”, “Age”, “Potential” y “Name”.\n",
    "\n",
    "Las posiciones son siglas que se pueden encontrar en\n",
    "https://en.wikipedia.org/wiki/Association_football_positions\n"
   ]
  },
  {
   "cell_type": "code",
   "execution_count": 14,
   "id": "ff9f1d17",
   "metadata": {},
   "outputs": [],
   "source": [
    "import os\n",
    "import csv\n",
    "\n",
    "# Direccion del archivo a leer\n",
    "path_file_input = os.path.join(os.path.dirname(os.getcwd()),\"datasets_input\")\n",
    "\n",
    "# Nombre del archivo a leer \n",
    "name_input = \"fifa_input.csv\"\n",
    "\n",
    "# Direccion destino del nuevo dataset\n",
    "path_file_output = os.path.join(os.path.dirname(os.getcwd()),\"datasets_output\")\n",
    "\n",
    "# Nombre del archivo a escribir/crear\n",
    "name_output = \"dataset_fifa.csv\"\n",
    "\n",
    "# Defino las funciones a usar (FALTAN IMPLEMENTAR)\n",
    "def potential():\n",
    "    pass\n",
    "\n",
    "def position():\n",
    "    pass\n",
    "\n",
    "try:\n",
    "    # Abro el archivo a leer y lo cargo  en una lista sin el encabezado\n",
    "    with open(os.path.join(path_file_input, name_input),encoding='utf_8') as data_fifa:\n",
    "        csvreader = csv.reader(data_fifa,delimiter=';')\n",
    "        header , data_file_input = next(csvreader), list(csvreader)    \n",
    "\n",
    "    # Encabezado del nuevo archivo\n",
    "    new_header = [\"Team\", \"Nationality\", \"Position\", \"Age\", \"Potential\", \"Name\"]\n",
    "    \n",
    "    # Genero una lista de listas con las columnas necesarias usando listcomprehension\n",
    "    new_data = [[line[8].strip(),line[2],line[3],line[5],line[7],line[1]]\n",
    "                for line in data_file_input]\n",
    "    \n",
    "    # Creo y escribo el archivo con los nuevos datos\n",
    "    with open(os.path.join(path_file_output, name_output),'w',newline='',\n",
    "              encoding = 'utf_8') as new_dataset:\n",
    "        csvwriter = csv.writer(new_dataset, delimiter=',')\n",
    "        csvwriter.writerow(new_header)\n",
    "        csvwriter.writerows(new_data)\n",
    "except FileNotFoundError:\n",
    "    print('ERROR: No se ha encontrado el archivo.')"
   ]
  },
  {
   "cell_type": "code",
   "execution_count": null,
   "id": "5a666d74",
   "metadata": {},
   "outputs": [],
   "source": []
  }
 ],
 "metadata": {
  "kernelspec": {
   "display_name": "Python 3 (ipykernel)",
   "language": "python",
   "name": "python3"
  },
  "language_info": {
   "codemirror_mode": {
    "name": "ipython",
    "version": 3
   },
   "file_extension": ".py",
   "mimetype": "text/x-python",
   "name": "python",
   "nbconvert_exporter": "python",
   "pygments_lexer": "ipython3",
   "version": "3.10.3"
  }
 },
 "nbformat": 4,
 "nbformat_minor": 5
}
